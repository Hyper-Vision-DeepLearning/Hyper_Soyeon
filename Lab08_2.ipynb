{
 "cells": [
  {
   "cell_type": "markdown",
   "metadata": {
    "id": "8wvTMY6BCXcs"
   },
   "source": [
    "이번 Lab을 통해 XOR 문제를 다층 퍼셉트론으로 구현해보겠습니다!"
   ]
  },
  {
   "cell_type": "code",
   "execution_count": 1,
   "metadata": {
    "id": "fNRRWU2mCS1R"
   },
   "outputs": [],
   "source": [
    "import torch\n",
    "import torch.nn as nn"
   ]
  },
  {
   "cell_type": "code",
   "execution_count": 2,
   "metadata": {
    "id": "u5QGlnWPCS1S"
   },
   "outputs": [],
   "source": [
    "device = 'cuda' if torch.cuda.is_available() else 'cpu'\n",
    "\n",
    "# for reproducibility\n",
    "torch.manual_seed(777)\n",
    "if device == 'cuda':\n",
    "    torch.cuda.manual_seed_all(777)"
   ]
  },
  {
   "cell_type": "markdown",
   "metadata": {
    "id": "EVMMZlZbCtMd"
   },
   "source": [
    "XOR 문제를 풀기 위한 입력과 출력을 정의해줍니다."
   ]
  },
  {
   "cell_type": "code",
   "execution_count": 6,
   "metadata": {
    "id": "Y9rTkJw_CS1T"
   },
   "outputs": [],
   "source": [
    "X = torch.FloatTensor([[0,0],[0,1],[1,0],[1,1]]).to(device)\n",
    "Y = torch.FloatTensor([[0],[1],[1],[0]]).to(device)"
   ]
  },
  {
   "cell_type": "markdown",
   "metadata": {
    "id": "NDcp9ik6DCaQ"
   },
   "source": [
    "입력층, 은닉층 3개, 출력층을 가지는 인공신경망을 구현해보겠습니다."
   ]
  },
  {
   "cell_type": "code",
   "execution_count": 7,
   "metadata": {
    "id": "P1U4O5_MD2wD"
   },
   "outputs": [],
   "source": [
    "model = nn.Sequential(\n",
    "          nn.Linear(2, 10, bias=True), # input layer의 크기를 생각해보세요.\n",
    "          nn.Sigmoid(),\n",
    "          nn.Linear(10, 10, bias=True), \n",
    "          nn.Sigmoid(),\n",
    "          nn.Linear(10, 10, bias=True), \n",
    "          nn.Sigmoid(),\n",
    "          nn.Linear(10, 1, bias=True), # output layer의 크기를 생각해보세요.\n",
    "          nn.Sigmoid()\n",
    "          ).to(device)"
   ]
  },
  {
   "cell_type": "code",
   "execution_count": 12,
   "metadata": {
    "id": "Q1A6-bmjJULd"
   },
   "outputs": [
    {
     "data": {
      "text/plain": [
       "'\\n# 이렇게 구현해도 됩니다.\\n# nn layers\\nlinear1 = torch.nn.Linear(2, 10, bias=True) # input layer의 크기를 생각해보세요.\\nlinear2 = torch.nn.Linear(10, 10, bias=True)\\nlinear3 = torch.nn.Linear(10, 10, bias=True)\\nlinear4 = torch.nn.Linear(10, 1, bias=True) # output layer의 크기를 생각해보세요.\\nsigmoid = torch.nn.Sigmoid()\\n\\n# model\\nmodel = torch.nn.Sequential(linear1, sigmoid, linear2, sigmoid, linear3, sigmoid, linear4, sigmoid).to(device)\\n'"
      ]
     },
     "execution_count": 12,
     "metadata": {},
     "output_type": "execute_result"
    }
   ],
   "source": [
    "\"\"\"\n",
    "# 이렇게 구현해도 됩니다.\n",
    "# nn layers\n",
    "linear1 = torch.nn.Linear(2, 10, bias=True) # input layer의 크기를 생각해보세요.\n",
    "linear2 = torch.nn.Linear(10, 10, bias=True)\n",
    "linear3 = torch.nn.Linear(10, 10, bias=True)\n",
    "linear4 = torch.nn.Linear(10, 1, bias=True) # output layer의 크기를 생각해보세요.\n",
    "sigmoid = torch.nn.Sigmoid()\n",
    "\n",
    "# model\n",
    "model = torch.nn.Sequential(linear1, sigmoid, linear2, sigmoid, linear3, sigmoid, linear4, sigmoid).to(device)\n",
    "\"\"\""
   ]
  },
  {
   "cell_type": "markdown",
   "metadata": {
    "id": "7yG79vd1FncB"
   },
   "source": [
    "이제 비용 함수와 옵타마이저를 선언합니다."
   ]
  },
  {
   "cell_type": "code",
   "execution_count": 9,
   "metadata": {
    "id": "c5brC6ctCS1U"
   },
   "outputs": [],
   "source": [
    "# define cost/loss & optimizer\n",
    "criterion = torch.nn.BCELoss().to(device) # 이진 분류에서 사용하는 크로스엔트로피 함수를 사용하세요.\n",
    "optimizer = torch.optim.SGD(model.parameters(),lr=1) # SGD optimizer를 사용하고 learing rate는 1로 설정하세요."
   ]
  },
  {
   "cell_type": "markdown",
   "metadata": {
    "id": "ZPwauumjFpV6"
   },
   "source": [
    "총 10,001번의 에포크를 수행합니다. 각 에포크마다 역전파가 수행된다고 보면 되겠습니다."
   ]
  },
  {
   "cell_type": "code",
   "execution_count": 10,
   "metadata": {
    "colab": {
     "base_uri": "https://localhost:8080/"
    },
    "id": "KvDB74ydCS1U",
    "outputId": "6870258c-d300-47c1-feca-ac640245ab3b"
   },
   "outputs": [
    {
     "name": "stdout",
     "output_type": "stream",
     "text": [
      "0 0.6948983669281006\n",
      "100 0.693155825138092\n",
      "200 0.6931535601615906\n",
      "300 0.6931513547897339\n",
      "400 0.6931493282318115\n",
      "500 0.6931473016738892\n",
      "600 0.6931453943252563\n",
      "700 0.6931435465812683\n",
      "800 0.6931416988372803\n",
      "900 0.6931397914886475\n",
      "1000 0.6931380033493042\n",
      "1100 0.6931361556053162\n",
      "1200 0.6931343078613281\n",
      "1300 0.6931324005126953\n",
      "1400 0.6931304931640625\n",
      "1500 0.6931284666061401\n",
      "1600 0.6931264400482178\n",
      "1700 0.6931242942810059\n",
      "1800 0.6931220293045044\n",
      "1900 0.6931197047233582\n",
      "2000 0.6931172013282776\n",
      "2100 0.6931144595146179\n",
      "2200 0.6931116580963135\n",
      "2300 0.6931084990501404\n",
      "2400 0.6931051015853882\n",
      "2500 0.6931014657020569\n",
      "2600 0.6930974721908569\n",
      "2700 0.6930930018424988\n",
      "2800 0.6930880546569824\n",
      "2900 0.6930825114250183\n",
      "3000 0.6930763721466064\n",
      "3100 0.6930692791938782\n",
      "3200 0.6930612325668335\n",
      "3300 0.6930518746376038\n",
      "3400 0.6930411458015442\n",
      "3500 0.6930283904075623\n",
      "3600 0.6930133104324341\n",
      "3700 0.6929951310157776\n",
      "3800 0.6929728984832764\n",
      "3900 0.6929453015327454\n",
      "4000 0.6929103136062622\n",
      "4100 0.6928648948669434\n",
      "4200 0.6928046941757202\n",
      "4300 0.692721962928772\n",
      "4400 0.692604124546051\n",
      "4500 0.692427933216095\n",
      "4600 0.692147970199585\n",
      "4700 0.6916665434837341\n",
      "4800 0.690739631652832\n",
      "4900 0.688620388507843\n",
      "5000 0.6820822358131409\n",
      "5100 0.6472558975219727\n",
      "5200 0.44960033893585205\n",
      "5300 0.04120307043194771\n",
      "5400 0.009722817689180374\n",
      "5500 0.0050316243432462215\n",
      "5600 0.00329543836414814\n",
      "5700 0.0024159494787454605\n",
      "5800 0.0018917799461632967\n",
      "5900 0.0015465017640963197\n",
      "6000 0.001303164754062891\n",
      "6100 0.0011230817763134837\n",
      "6200 0.00098479725420475\n",
      "6300 0.0008754964219406247\n",
      "6400 0.0007871013367548585\n",
      "6500 0.000714148220140487\n",
      "6600 0.0006530848331749439\n",
      "6700 0.0006011504447087646\n",
      "6800 0.0005565991159528494\n",
      "6900 0.0005179091240279377\n",
      "7000 0.000484021264128387\n",
      "7100 0.0004541448433883488\n",
      "7200 0.0004275788669474423\n",
      "7300 0.00040381622966378927\n",
      "7400 0.00038243926246650517\n",
      "7500 0.000363134837243706\n",
      "7600 0.00034563447115942836\n",
      "7700 0.0003296399663668126\n",
      "7800 0.0003150170377921313\n",
      "7900 0.0003015868132933974\n",
      "8000 0.00028917036252096295\n",
      "8100 0.00027773785404860973\n",
      "8200 0.0002671699330676347\n",
      "8300 0.00025731761706992984\n",
      "8400 0.0002481062838342041\n",
      "8500 0.00023952106130309403\n",
      "8600 0.0002315022866241634\n",
      "8700 0.00022394560801330954\n",
      "8800 0.00021689575805794448\n",
      "8900 0.0002102334692608565\n",
      "9000 0.00020395874162204564\n",
      "9100 0.00019802685710601509\n",
      "9200 0.0001924079842865467\n",
      "9300 0.0001871021231636405\n",
      "9400 0.00018206457025371492\n",
      "9500 0.00017728042439557612\n",
      "9600 0.00017273474077228457\n",
      "9700 0.00016841263277456164\n",
      "9800 0.00016431411495432258\n",
      "9900 0.00016037956811487675\n",
      "10000 0.0001566387654747814\n"
     ]
    }
   ],
   "source": [
    "for step in range(10001):\n",
    "    optimizer.zero_grad()  # gradient를 0으로 초기화\n",
    "    hypothesis = model(X) # 모델을 생성해서 hypothesis를 구해보세요.\n",
    "\n",
    "    # cost/loss function\n",
    "    cost = criterion(hypothesis, Y) # 위에서 정의한 비용함수를 사용하세요.\n",
    "    cost.backward()  # 비용 함수를 미분하여 gradient 계산\n",
    "    optimizer.step()  # W와 b를 업데이트\n",
    "\n",
    "    if step % 100 == 0:\n",
    "        print(step, cost.item())"
   ]
  },
  {
   "cell_type": "markdown",
   "metadata": {
    "id": "DWvTYVIGFgYX"
   },
   "source": [
    "이제 모델이 XOR 문제를 풀 수 있는지 테스트 해봅시다."
   ]
  },
  {
   "cell_type": "code",
   "execution_count": 11,
   "metadata": {
    "colab": {
     "base_uri": "https://localhost:8080/"
    },
    "id": "Erxp_dapCS1V",
    "outputId": "f1d040d0-41f6-4990-9169-106d5b75229d"
   },
   "outputs": [
    {
     "name": "stdout",
     "output_type": "stream",
     "text": [
      "\n",
      "Hypothesis:  [[1.11760564e-04]\n",
      " [9.99828696e-01]\n",
      " [9.99842167e-01]\n",
      " [1.85418889e-04]] \n",
      "Correct:  [[0.]\n",
      " [1.]\n",
      " [1.]\n",
      " [0.]] \n",
      "Accuracy:  1.0\n"
     ]
    }
   ],
   "source": [
    "# Accuracy computation\n",
    "# True if hypothesis>0.5 else False\n",
    "with torch.no_grad():\n",
    "    hypothesis = model(X)\n",
    "    predicted = (hypothesis > 0.5).float()\n",
    "    accuracy = (predicted == Y).float().mean()\n",
    "    print('\\nHypothesis: ', hypothesis.detach().cpu().numpy(), '\\nCorrect: ', predicted.detach().cpu().numpy(), '\\nAccuracy: ', accuracy.item())"
   ]
  },
  {
   "cell_type": "markdown",
   "metadata": {
    "id": "zuG7sedvQYAv"
   },
   "source": [
    "실제값은 0, 1, 1, 0이며 예측값은 0, 1, 1, 0으로 문제를 해결하는 모습을 보여줍니다."
   ]
  },
  {
   "cell_type": "markdown",
   "metadata": {
    "id": "h4ZOw5LyQurv"
   },
   "source": [
    "Q1. Backpropagation이란?\n",
    "\n",
    "=> 출력층에서 입력층 방향으로 계산하면서 가중치를 업데이트"
   ]
  },
  {
   "cell_type": "markdown",
   "metadata": {
    "id": "O41kkNU6QzMV"
   },
   "source": [
    "Q2. Backpropagation은 어떤 방식을 이용해 weight, bias 같은 변수들을 업데이트 할까요?\n",
    "\n",
    "=> 미분의 연쇄 법칙(Chain rule)"
   ]
  }
 ],
 "metadata": {
  "accelerator": "GPU",
  "colab": {
   "collapsed_sections": [],
   "name": "Lab08_2.ipynb",
   "provenance": []
  },
  "kernelspec": {
   "display_name": "Python 3",
   "language": "python",
   "name": "python3"
  },
  "language_info": {
   "codemirror_mode": {
    "name": "ipython",
    "version": 3
   },
   "file_extension": ".py",
   "mimetype": "text/x-python",
   "name": "python",
   "nbconvert_exporter": "python",
   "pygments_lexer": "ipython3",
   "version": "3.7.6"
  }
 },
 "nbformat": 4,
 "nbformat_minor": 1
}
